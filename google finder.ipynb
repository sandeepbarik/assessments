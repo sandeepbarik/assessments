{
 "cells": [
  {
   "cell_type": "code",
   "execution_count": 2,
   "metadata": {},
   "outputs": [],
   "source": [
    "import requests\n",
    "import sys\n",
    "import webbrowser\n",
    "import bs4\n",
    "\n",
    "response= requests.get('https://google.com/search?q='+''.join(sys.argv[1:])) \n",
    "response.raise_for_status()\n",
    "\n",
    "bsoup=bs4.BeautifulSoup(response.text, 'html.parser')\n",
    "links=bsoup.select('.r a')\n",
    "openlinks=min(4, len(links))\n",
    "for i in range (openlinks):\n",
    "    webbrowser.open('https://google.com'+links[i].get('href'))"
   ]
  },
  {
   "cell_type": "code",
   "execution_count": null,
   "metadata": {},
   "outputs": [],
   "source": []
  }
 ],
 "metadata": {
  "kernelspec": {
   "display_name": "Python 3",
   "language": "python",
   "name": "python3"
  },
  "language_info": {
   "codemirror_mode": {
    "name": "ipython",
    "version": 3
   },
   "file_extension": ".py",
   "mimetype": "text/x-python",
   "name": "python",
   "nbconvert_exporter": "python",
   "pygments_lexer": "ipython3",
   "version": "3.7.1"
  }
 },
 "nbformat": 4,
 "nbformat_minor": 2
}
